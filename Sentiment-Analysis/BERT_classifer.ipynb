{
  "cells": [
    {
      "cell_type": "markdown",
      "metadata": {
        "id": "chsepYLA3x7s"
      },
      "source": [
      ]
    },
    {
      "cell_type": "code",
      "execution_count": null,
      "metadata": {
        "id": "rXxxOqk63x7u"
      },
      "outputs": [],
      "source": [
        "# BERT - CONTEXTUALZIED!"
      ]
    },
    {
      "cell_type": "code",
      "execution_count": null,
      "metadata": {
        "colab": {
          "base_uri": "https://localhost:8080/"
        },
        "id": "65JuMHzt32qG",
        "outputId": "f052fb2e-1186-426f-f5c5-1a609018515d"
      },
      "outputs": [],
      "source": [
        "!nvidia-smi"
      ]
    },
    {
      "cell_type": "code",
      "execution_count": null,
      "metadata": {
        "colab": {
          "base_uri": "https://localhost:8080/"
        },
        "id": "4jhTfDjg35Ob",
        "outputId": "f3472d93-4406-4f7f-bf6b-6a3e64b361c4"
      },
      "outputs": [],
      "source": [
        "from google.colab import drive\n",
        "\n",
        "drive.mount('/content/drive')"
      ]
    },
    {
      "cell_type": "code",
      "execution_count": null,
      "metadata": {
        "colab": {
          "base_uri": "https://localhost:8080/"
        },
        "id": "nwMtOTCf6SiF",
        "outputId": "57bddaf6-4afe-419d-8b6c-fca7547d7e19"
      },
      "outputs": [],
      "source": [
        "!pip install tensorflow-text\n",
        "!pip install tensorflow-addons"
      ]
    },
    {
      "cell_type": "code",
      "execution_count": null,
      "metadata": {
        "id": "NFTB_Wt33x7v"
      },
      "outputs": [],
      "source": [
        "import tensorflow as tf\n",
        "import tensorflow_hub as hub\n",
        "import tensorflow_text as text\n",
        "from sklearn.preprocessing import OneHotEncoder\n",
        "import tensorflow.keras.layers as KL\n",
        "import numpy as np\n",
        "from tensorflow.keras.utils import to_categorical\n",
        "import tensorflow_addons as tfa\n",
        "import pandas as pd\n",
        "import matplotlib.pyplot as plt"
      ]
    },
    {
      "cell_type": "code",
      "execution_count": null,
      "metadata": {
        "colab": {
          "base_uri": "https://localhost:8080/"
        },
        "id": "wnUBUwXW3x7x",
        "outputId": "47547c1d-cecd-4680-c6c2-db5a5855a15d"
      },
      "outputs": [],
      "source": [
        "#Test if using gpu\n",
        "if tf.test.gpu_device_name():\n",
        "    print('Default GPU Device:{}'.format(tf.test.gpu_device_name()))\n",
        "else:\n",
        "    print(\"Please install GPU version of TF\")"
      ]
    },
    {
      "cell_type": "markdown",
      "metadata": {
        "id": "q_dbuPOg3x7y"
      },
      "source": [
        "<h2>Examine training data</h2>"
      ]
    },
    {
      "cell_type": "code",
      "execution_count": null,
      "metadata": {
        "id": "jw5ibgJOpcNh"
      },
      "outputs": [],
      "source": [
        "N_CLASSES = 5\n",
        "TRAIN_DATA_PATH = \"/content/drive/My Drive/data/train.csv\"\n",
        "VAL_DATA_PATH = \"/content/drive/My Drive/data/valid.csv\"\n",
        "TEST_DATA_PATH = \"/content/drive/My Drive/data/test.csv\"\n",
        "CHECKPOINT_PATH = \"/content/drive/My Drive/checkpoint_v4.hdf5\""
      ]
    },
    {
      "cell_type": "code",
      "execution_count": null,
      "metadata": {
        "colab": {
          "base_uri": "https://localhost:8080/",
          "height": 206
        },
        "id": "bh4D7VEM3x7z",
        "outputId": "c1aa68fc-0955-483a-e260-03bcd0bb954e"
      },
      "outputs": [
        {
          "data": {
            "text/html": [
              "\n",
              "  <div id=\"df-2042013d-15b4-4339-aad8-d8ffb0135512\">\n",
              "    <div class=\"colab-df-container\">\n",
              "      <div>\n",
              "<style scoped>\n",
              "    .dataframe tbody tr th:only-of-type {\n",
              "        vertical-align: middle;\n",
              "    }\n",
              "\n",
              "    .dataframe tbody tr th {\n",
              "        vertical-align: top;\n",
              "    }\n",
              "\n",
              "    .dataframe thead th {\n",
              "        text-align: right;\n",
              "    }\n",
              "</style>\n",
              "<table border=\"1\" class=\"dataframe\">\n",
              "  <thead>\n",
              "    <tr style=\"text-align: right;\">\n",
              "      <th></th>\n",
              "      <th>business_id</th>\n",
              "      <th>cool</th>\n",
              "      <th>date</th>\n",
              "      <th>funny</th>\n",
              "      <th>review_id</th>\n",
              "      <th>stars</th>\n",
              "      <th>text</th>\n",
              "      <th>useful</th>\n",
              "      <th>user_id</th>\n",
              "    </tr>\n",
              "  </thead>\n",
              "  <tbody>\n",
              "    <tr>\n",
              "      <th>0</th>\n",
              "      <td>JCZEK7wiazoM6xiq8YeZyw</td>\n",
              "      <td>1</td>\n",
              "      <td>2018-01-16 20:13:13</td>\n",
              "      <td>1</td>\n",
              "      <td>oxj0_2jKOqQFIWEYRjWi6g</td>\n",
              "      <td>5</td>\n",
              "      <td>I've been here a handful of times now and I've...</td>\n",
              "      <td>1</td>\n",
              "      <td>1fq-gL1i_8xKhc9VgOZDGw</td>\n",
              "    </tr>\n",
              "    <tr>\n",
              "      <th>1</th>\n",
              "      <td>ALn_0f-Usn3n0a9WBcjhhg</td>\n",
              "      <td>0</td>\n",
              "      <td>2018-04-10</td>\n",
              "      <td>0</td>\n",
              "      <td>gZITaUSvzBUijZvNGXO_Cg</td>\n",
              "      <td>1</td>\n",
              "      <td>The service was terrible. The food was just ok...</td>\n",
              "      <td>0</td>\n",
              "      <td>wqG3PCf8ufXId2RG0oBufA</td>\n",
              "    </tr>\n",
              "    <tr>\n",
              "      <th>2</th>\n",
              "      <td>3tBRBsiTi6JJz3CJ7DcS_w</td>\n",
              "      <td>0</td>\n",
              "      <td>2014-07-11 19:08:48</td>\n",
              "      <td>0</td>\n",
              "      <td>ov2ohuP2bPJI35sscGGJpw</td>\n",
              "      <td>4</td>\n",
              "      <td>Alil pricey for the location but completly get...</td>\n",
              "      <td>0</td>\n",
              "      <td>xgXVmyRpUZUwbgo519IqJw</td>\n",
              "    </tr>\n",
              "    <tr>\n",
              "      <th>3</th>\n",
              "      <td>eD6MH0tD1R3C1Qs1sH0wBg</td>\n",
              "      <td>0</td>\n",
              "      <td>2018-04-28 22:03:23</td>\n",
              "      <td>0</td>\n",
              "      <td>LFJGPIrbR7U_g3oavotkXg</td>\n",
              "      <td>1</td>\n",
              "      <td>Don't get your car washed here. Paid 11 and my...</td>\n",
              "      <td>1</td>\n",
              "      <td>KjhzP6W-6T7cZrPczcnKOg</td>\n",
              "    </tr>\n",
              "    <tr>\n",
              "      <th>4</th>\n",
              "      <td>T-TES2u1IA2THb8uBhNdCA</td>\n",
              "      <td>0</td>\n",
              "      <td>2015-07-15 17:21:15</td>\n",
              "      <td>0</td>\n",
              "      <td>hUoRKiGTnMV51R6pQSYovQ</td>\n",
              "      <td>5</td>\n",
              "      <td>Cute but tight. Not expensive and creative. I ...</td>\n",
              "      <td>0</td>\n",
              "      <td>CN5OQxL6FVT3nr7L2Ohm2w</td>\n",
              "    </tr>\n",
              "  </tbody>\n",
              "</table>\n",
              "</div>\n",
              "      <button class=\"colab-df-convert\" onclick=\"convertToInteractive('df-2042013d-15b4-4339-aad8-d8ffb0135512')\"\n",
              "              title=\"Convert this dataframe to an interactive table.\"\n",
              "              style=\"display:none;\">\n",
              "        \n",
              "  <svg xmlns=\"http://www.w3.org/2000/svg\" height=\"24px\"viewBox=\"0 0 24 24\"\n",
              "       width=\"24px\">\n",
              "    <path d=\"M0 0h24v24H0V0z\" fill=\"none\"/>\n",
              "    <path d=\"M18.56 5.44l.94 2.06.94-2.06 2.06-.94-2.06-.94-.94-2.06-.94 2.06-2.06.94zm-11 1L8.5 8.5l.94-2.06 2.06-.94-2.06-.94L8.5 2.5l-.94 2.06-2.06.94zm10 10l.94 2.06.94-2.06 2.06-.94-2.06-.94-.94-2.06-.94 2.06-2.06.94z\"/><path d=\"M17.41 7.96l-1.37-1.37c-.4-.4-.92-.59-1.43-.59-.52 0-1.04.2-1.43.59L10.3 9.45l-7.72 7.72c-.78.78-.78 2.05 0 2.83L4 21.41c.39.39.9.59 1.41.59.51 0 1.02-.2 1.41-.59l7.78-7.78 2.81-2.81c.8-.78.8-2.07 0-2.86zM5.41 20L4 18.59l7.72-7.72 1.47 1.35L5.41 20z\"/>\n",
              "  </svg>\n",
              "      </button>\n",
              "      \n",
              "  <style>\n",
              "    .colab-df-container {\n",
              "      display:flex;\n",
              "      flex-wrap:wrap;\n",
              "      gap: 12px;\n",
              "    }\n",
              "\n",
              "    .colab-df-convert {\n",
              "      background-color: #E8F0FE;\n",
              "      border: none;\n",
              "      border-radius: 50%;\n",
              "      cursor: pointer;\n",
              "      display: none;\n",
              "      fill: #1967D2;\n",
              "      height: 32px;\n",
              "      padding: 0 0 0 0;\n",
              "      width: 32px;\n",
              "    }\n",
              "\n",
              "    .colab-df-convert:hover {\n",
              "      background-color: #E2EBFA;\n",
              "      box-shadow: 0px 1px 2px rgba(60, 64, 67, 0.3), 0px 1px 3px 1px rgba(60, 64, 67, 0.15);\n",
              "      fill: #174EA6;\n",
              "    }\n",
              "\n",
              "    [theme=dark] .colab-df-convert {\n",
              "      background-color: #3B4455;\n",
              "      fill: #D2E3FC;\n",
              "    }\n",
              "\n",
              "    [theme=dark] .colab-df-convert:hover {\n",
              "      background-color: #434B5C;\n",
              "      box-shadow: 0px 1px 3px 1px rgba(0, 0, 0, 0.15);\n",
              "      filter: drop-shadow(0px 1px 2px rgba(0, 0, 0, 0.3));\n",
              "      fill: #FFFFFF;\n",
              "    }\n",
              "  </style>\n",
              "\n",
              "      <script>\n",
              "        const buttonEl =\n",
              "          document.querySelector('#df-2042013d-15b4-4339-aad8-d8ffb0135512 button.colab-df-convert');\n",
              "        buttonEl.style.display =\n",
              "          google.colab.kernel.accessAllowed ? 'block' : 'none';\n",
              "\n",
              "        async function convertToInteractive(key) {\n",
              "          const element = document.querySelector('#df-2042013d-15b4-4339-aad8-d8ffb0135512');\n",
              "          const dataTable =\n",
              "            await google.colab.kernel.invokeFunction('convertToInteractive',\n",
              "                                                     [key], {});\n",
              "          if (!dataTable) return;\n",
              "\n",
              "          const docLinkHtml = 'Like what you see? Visit the ' +\n",
              "            '<a target=\"_blank\" href=https://colab.research.google.com/notebooks/data_table.ipynb>data table notebook</a>'\n",
              "            + ' to learn more about interactive tables.';\n",
              "          element.innerHTML = '';\n",
              "          dataTable['output_type'] = 'display_data';\n",
              "          await google.colab.output.renderOutput(dataTable, element);\n",
              "          const docLink = document.createElement('div');\n",
              "          docLink.innerHTML = docLinkHtml;\n",
              "          element.appendChild(docLink);\n",
              "        }\n",
              "      </script>\n",
              "    </div>\n",
              "  </div>\n",
              "  "
            ],
            "text/plain": [
              "              business_id  cool                 date  funny  \\\n",
              "0  JCZEK7wiazoM6xiq8YeZyw     1  2018-01-16 20:13:13      1   \n",
              "1  ALn_0f-Usn3n0a9WBcjhhg     0           2018-04-10      0   \n",
              "2  3tBRBsiTi6JJz3CJ7DcS_w     0  2014-07-11 19:08:48      0   \n",
              "3  eD6MH0tD1R3C1Qs1sH0wBg     0  2018-04-28 22:03:23      0   \n",
              "4  T-TES2u1IA2THb8uBhNdCA     0  2015-07-15 17:21:15      0   \n",
              "\n",
              "                review_id  stars  \\\n",
              "0  oxj0_2jKOqQFIWEYRjWi6g      5   \n",
              "1  gZITaUSvzBUijZvNGXO_Cg      1   \n",
              "2  ov2ohuP2bPJI35sscGGJpw      4   \n",
              "3  LFJGPIrbR7U_g3oavotkXg      1   \n",
              "4  hUoRKiGTnMV51R6pQSYovQ      5   \n",
              "\n",
              "                                                text  useful  \\\n",
              "0  I've been here a handful of times now and I've...       1   \n",
              "1  The service was terrible. The food was just ok...       0   \n",
              "2  Alil pricey for the location but completly get...       0   \n",
              "3  Don't get your car washed here. Paid 11 and my...       1   \n",
              "4  Cute but tight. Not expensive and creative. I ...       0   \n",
              "\n",
              "                  user_id  \n",
              "0  1fq-gL1i_8xKhc9VgOZDGw  \n",
              "1  wqG3PCf8ufXId2RG0oBufA  \n",
              "2  xgXVmyRpUZUwbgo519IqJw  \n",
              "3  KjhzP6W-6T7cZrPczcnKOg  \n",
              "4  CN5OQxL6FVT3nr7L2Ohm2w  "
            ]
          },
          "execution_count": 47,
          "metadata": {},
          "output_type": "execute_result"
        }
      ],
      "source": [
        "df_train_raw = pd.read_csv(TRAIN_DATA_PATH)\n",
        "df_train_raw.head(5)"
      ]
    },
    {
      "cell_type": "markdown",
      "metadata": {
        "id": "2NX0dyxsd7I9"
      },
      "source": [
        "<h4>Training data class distribution</h4>"
      ]
    },
    {
      "cell_type": "code",
      "execution_count": null,
      "metadata": {
        "colab": {
          "base_uri": "https://localhost:8080/"
        },
        "id": "vsJnxEcs3x70",
        "outputId": "27a0baa1-497c-4654-9f72-9cb858221780"
      },
      "outputs": [],
      "source": [
        "\n",
        "# Need to balance the class distribution !\n",
        "\n",
        "for i, size in enumerate(df_train_raw.groupby('stars').size()):\n",
        "  print(\"{} stars: {}\".format(i+1, size))"
      ]
    },
    {
      "cell_type": "code",
      "execution_count": null,
      "metadata": {
        "id": "upBT1jvliFdn"
      },
      "outputs": [],
      "source": [
        "#  helper function to transform raw dataframe to X and y sets\n",
        "def dataframe_extract(df_raw, test = False):\n",
        "\n",
        "    X = df_raw['text'].squeeze()\n",
        "    # one-hot representation of label\n",
        "\n",
        "    if test:\n",
        "      y=None\n",
        "    else:\n",
        "      y = tf.keras.utils.to_categorical(df_raw['stars'].apply(lambda x: x-1).squeeze(), num_classes = N_CLASSES) \n",
        "\n",
        "    return X,y"
      ]
    },
    {
      "cell_type": "code",
      "execution_count": null,
      "metadata": {
        "id": "tHHZZ3XDkiFy"
      },
      "outputs": [],
      "source": [
        "df_val_raw = pd.read_csv(VAL_DATA_PATH)\n",
        "df_test_raw = pd.read_csv(TEST_DATA_PATH)\n",
        "\n",
        "X_train, y_train = dataframe_extract(df_train_raw)\n",
        "X_val, y_val = dataframe_extract(df_val_raw)\n",
        "X_test, _  = dataframe_extract(df_test_raw, True)"
      ]
    },
    {
      "cell_type": "markdown",
      "metadata": {
        "id": "q-bkA3jK3x76"
      },
      "source": [
        "<h4>Import BERT</h4>"
      ]
    },
    {
      "cell_type": "code",
      "execution_count": null,
      "metadata": {
        "id": "IQGkl75v3x77"
      },
      "outputs": [],
      "source": [
        "#Layer for preprocessing text suited to BERT\n",
        "bert_preprocess = hub.KerasLayer(\"https://tfhub.dev/tensorflow/bert_en_uncased_preprocess/3\")\n",
        "#Layer for actual BERT extraction\n",
        "bert_encoder = hub.KerasLayer(\"https://tfhub.dev/tensorflow/bert_en_uncased_L-12_H-768_A-12/4\", trainable=True)"
      ]
    },
    {
      "cell_type": "markdown",
      "metadata": {
        "id": "Gw1-iJBp3x78"
      },
      "source": [
        "<h4>Build Model</h4>"
      ]
    },
    {
      "cell_type": "code",
      "execution_count": null,
      "metadata": {
        "id": "l6vCU3xs3x78"
      },
      "outputs": [],
      "source": [
        "# Weight initialization scheme - random normal\n",
        "kernel_init = tf.keras.initializers.he_normal(seed=0)\n",
        "\n",
        "# Bert layers\n",
        "text_input = tf.keras.layers.Input(shape=(), dtype=tf.string, name='text')\n",
        "preprocessed_text = bert_preprocess(text_input)\n",
        "outputs = bert_encoder(preprocessed_text)\n",
        "\n",
        "drop = KL.Dropout(0.4)(outputs['pooled_output'])\n",
        "pred = tf.keras.layers.Dense(N_CLASSES, activation='softmax',kernel_initializer=kernel_init, bias_initializer = \"zeros\")(drop) #(acti1) #(acti2)#(acti3)\n",
        "\n",
        "model = tf.keras.Model(inputs=[text_input], outputs = [pred])"
      ]
    },
    {
      "cell_type": "code",
      "execution_count": null,
      "metadata": {
        "colab": {
          "base_uri": "https://localhost:8080/"
        },
        "id": "2aZHjuJG3x78",
        "outputId": "7faa295b-afeb-4990-cf94-4cf32206bf94"
      },
      "outputs": [],
      "source": [
        "print(\"Total training data: {}\".format(len(X_train)))\n",
        "print(\"Total validation data: {}\".format(len(X_val)))"
      ]
    },
    {
      "cell_type": "code",
      "execution_count": null,
      "metadata": {
        "colab": {
          "base_uri": "https://localhost:8080/"
        },
        "id": "sBl50hmk3x79",
        "outputId": "c2c1d3f1-71d8-455a-df8e-7f3b0b9ddf1f"
      },
      "outputs": [],
      "source": [
        "METRICS = [\n",
        "      tf.keras.metrics.CategoricalAccuracy(name='accuracy'),\n",
        "      tf.keras.metrics.Precision(name='precision'),\n",
        "      tf.keras.metrics.Recall(name='recall'),\n",
        "      tfa.metrics.F1Score(num_classes = N_CLASSES, name='f1', average='macro') \n",
        "]\n",
        "\n",
        "model_earlystopping_callback = tf.keras.callbacks.EarlyStopping(\n",
        "    monitor = \"val_loss\", \n",
        "    patience = 2, \n",
        "    restore_best_weights = True\n",
        ")\n",
        "\n",
        "\n",
        "def scheduler(epoch, lr):\n",
        "  if epoch < 5:\n",
        "    return lr\n",
        "  else:\n",
        "    return lr * tf.math.exp(-0.1)\n",
        "lrschedule_callback = tf.keras.callbacks.LearningRateScheduler(scheduler)\n",
        "\n",
        "\n",
        "checkpoint_filepath = CHECKPOINT_PATH\n",
        "model_checkpoint_callback = tf.keras.callbacks.ModelCheckpoint(\n",
        "    filepath=checkpoint_filepath,\n",
        "    verbose = True   \n",
        ")\n",
        "\n",
        "#Optimizer -> Adam\n",
        "\n",
        "Adam = tf.keras.optimizers.Adam(learning_rate=5e-5) # different learning rates maybe?\n",
        "model.compile(loss='categorical_crossentropy', optimizer=Adam, metrics=METRICS)\n",
        "model.summary()"
      ]
    },
    {
      "cell_type": "code",
      "execution_count": null,
      "metadata": {
        "colab": {
          "base_uri": "https://localhost:8080/"
        },
        "id": "83p1OONX3x79",
        "outputId": "cd8c2857-785b-4b75-f7a5-5a789cfb2d81",
        "scrolled": true
      },
      "outputs": [],
      "source": [
        "# model.load_weights(checkpoint_filepath)\n",
        "# print(\"Weights loaded successfully\")\n",
        "\n",
        "N_EPOCHS = 10\n",
        "\n",
        "history = model.fit(X_train, y_train, \n",
        "          epochs=N_EPOCHS, \n",
        "          batch_size = 16, \n",
        "          validation_data = (X_val, y_val),\n",
        "          callbacks=[model_checkpoint_callback, model_earlystopping_callback, lrschedule_callback])"
      ]
    },
    {
      "cell_type": "code",
      "execution_count": null,
      "metadata": {
        "colab": {
          "base_uri": "https://localhost:8080/"
        },
        "id": "FVrYV3P5Byxu",
        "outputId": "fe2e082c-41c6-4dfa-ca8a-a4d1f1b96cea"
      },
      "outputs": [],
      "source": [
        "from sklearn.metrics import classification_report\n",
        "\n",
        "y_val_pred = model.predict(X_val,verbose=1)\n",
        "y_val_pred_index = np.argmax(y_val_pred, axis=1)\n",
        "y_val_index = np.argmax(y_val, axis=1)\n",
        "\n",
        "print(classification_report(y_true = y_val_index, y_pred = y_val_pred_index, digits =4 ))"
      ]
    },
    {
      "cell_type": "code",
      "execution_count": null,
      "metadata": {
        "id": "GtReVQX0xZYG"
      },
      "outputs": [],
      "source": [
        "# Validation Performance\tMacro-F1\tPrecision\tRecall\tAccuracy\n",
        "# Weak baseline\t          0.4270\t   0.5420    0.4325\t 0.6135\n",
        "\n",
        "  # Strong                0.5673 \t   0.5707\t   0.5725\t 0.6665"
      ]
    },
    {
      "cell_type": "code",
      "execution_count": null,
      "metadata": {
        "id": "KUu9-rywsMo5"
      },
      "outputs": [],
      "source": [
        "# x = list(range(1, N_EPOCHS+1))\n",
        "# metric_list = list(history.history.keys())\n",
        "# num_metrics = int(len(metric_list)/2)\n",
        "\n",
        "# fig, ax = plt.subplots(nrows=1, ncols=num_metrics, figsize=(30, 5))\n",
        "\n",
        "# for i in range(0, num_metrics):\n",
        "#   ax[i].plot(x, history.history[metric_list[i]], marker=\"o\", label=metric_list[i].replace(\"_\", \" \"))\n",
        "#   ax[i].plot(x, history.history[metric_list[i+num_metrics]], marker=\"o\", label=metric_list[i+num_metrics].replace(\"_\", \" \"))\n",
        "#   ax[i].set_xlabel(\"epochs\",fontsize=14)\n",
        "#   ax[i].set_title(metric_list[i].replace(\"_\", \" \"),fontsize=20)\n",
        "#   ax[i].legend(loc=\"lower left\")"
      ]
    }
  ],
  "metadata": {
    "accelerator": "GPU",
    "colab": {
      "collapsed_sections": [],
      "name": "BERT_classifer.ipynb",
      "provenance": []
    },
    "kernelspec": {
      "display_name": "Python 3 (ipykernel)",
      "language": "python",
      "name": "python3"
    },
    "language_info": {
      "codemirror_mode": {
        "name": "ipython",
        "version": 3
      },
      "file_extension": ".py",
      "mimetype": "text/x-python",
      "name": "python",
      "nbconvert_exporter": "python",
      "pygments_lexer": "ipython3",
      "version": "3.8.0"
    }
  },
  "nbformat": 4,
  "nbformat_minor": 0
}
