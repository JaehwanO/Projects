{
 "cells": [
  {
   "cell_type": "code",
   "execution_count": 31,
   "metadata": {},
   "outputs": [
    {
     "name": "stdout",
     "output_type": "stream",
     "text": [
      "Requirement already satisfied: pydot in /Library/Frameworks/Python.framework/Versions/3.10/lib/python3.10/site-packages (1.4.2)\n",
      "Requirement already satisfied: pyparsing>=2.1.4 in /Library/Frameworks/Python.framework/Versions/3.10/lib/python3.10/site-packages (from pydot) (3.0.9)\n",
      "Requirement already satisfied: wandb in /Library/Frameworks/Python.framework/Versions/3.10/lib/python3.10/site-packages (0.13.4)\n",
      "Requirement already satisfied: setproctitle in /Library/Frameworks/Python.framework/Versions/3.10/lib/python3.10/site-packages (from wandb) (1.3.2)\n",
      "Requirement already satisfied: docker-pycreds>=0.4.0 in /Library/Frameworks/Python.framework/Versions/3.10/lib/python3.10/site-packages (from wandb) (0.4.0)\n",
      "Requirement already satisfied: six>=1.13.0 in /Library/Frameworks/Python.framework/Versions/3.10/lib/python3.10/site-packages (from wandb) (1.16.0)\n",
      "Requirement already satisfied: protobuf!=4.0.*,!=4.21.0,<5,>=3.12.0 in /Library/Frameworks/Python.framework/Versions/3.10/lib/python3.10/site-packages (from wandb) (3.19.6)\n",
      "Requirement already satisfied: requests<3,>=2.0.0 in /Library/Frameworks/Python.framework/Versions/3.10/lib/python3.10/site-packages (from wandb) (2.28.1)\n",
      "Requirement already satisfied: psutil>=5.0.0 in /Library/Frameworks/Python.framework/Versions/3.10/lib/python3.10/site-packages (from wandb) (5.9.1)\n",
      "Requirement already satisfied: sentry-sdk>=1.0.0 in /Library/Frameworks/Python.framework/Versions/3.10/lib/python3.10/site-packages (from wandb) (1.9.10)\n",
      "Requirement already satisfied: pathtools in /Library/Frameworks/Python.framework/Versions/3.10/lib/python3.10/site-packages (from wandb) (0.1.2)\n",
      "Requirement already satisfied: setuptools in /Library/Frameworks/Python.framework/Versions/3.10/lib/python3.10/site-packages (from wandb) (63.2.0)\n",
      "Requirement already satisfied: shortuuid>=0.5.0 in /Library/Frameworks/Python.framework/Versions/3.10/lib/python3.10/site-packages (from wandb) (1.0.9)\n",
      "Requirement already satisfied: PyYAML in /Library/Frameworks/Python.framework/Versions/3.10/lib/python3.10/site-packages (from wandb) (6.0)\n",
      "Requirement already satisfied: GitPython>=1.0.0 in /Library/Frameworks/Python.framework/Versions/3.10/lib/python3.10/site-packages (from wandb) (3.1.29)\n",
      "Requirement already satisfied: promise<3,>=2.0 in /Library/Frameworks/Python.framework/Versions/3.10/lib/python3.10/site-packages (from wandb) (2.3)\n",
      "Requirement already satisfied: Click!=8.0.0,>=7.0 in /Users/jaehwan/Library/Python/3.10/lib/python/site-packages (from wandb) (8.1.3)\n",
      "Requirement already satisfied: gitdb<5,>=4.0.1 in /Library/Frameworks/Python.framework/Versions/3.10/lib/python3.10/site-packages (from GitPython>=1.0.0->wandb) (4.0.9)\n",
      "Requirement already satisfied: urllib3<1.27,>=1.21.1 in /Library/Frameworks/Python.framework/Versions/3.10/lib/python3.10/site-packages (from requests<3,>=2.0.0->wandb) (1.26.12)\n",
      "Requirement already satisfied: idna<4,>=2.5 in /Library/Frameworks/Python.framework/Versions/3.10/lib/python3.10/site-packages (from requests<3,>=2.0.0->wandb) (3.4)\n",
      "Requirement already satisfied: charset-normalizer<3,>=2 in /Library/Frameworks/Python.framework/Versions/3.10/lib/python3.10/site-packages (from requests<3,>=2.0.0->wandb) (2.1.1)\n",
      "Requirement already satisfied: certifi>=2017.4.17 in /Library/Frameworks/Python.framework/Versions/3.10/lib/python3.10/site-packages (from requests<3,>=2.0.0->wandb) (2022.9.24)\n",
      "Requirement already satisfied: smmap<6,>=3.0.1 in /Library/Frameworks/Python.framework/Versions/3.10/lib/python3.10/site-packages (from gitdb<5,>=4.0.1->GitPython>=1.0.0->wandb) (5.0.0)\n"
     ]
    }
   ],
   "source": [
    "!pip3 install pydot\n",
    "!pip3 install wandb\n",
    "# Get helper_functions.py script from course GitHub\n",
    "# !wget https://raw.githubusercontent.com/mrdbourke/tensorflow-deep-learning/main/extras/helper_functions.py \n",
    "\n",
    "# Import helper functions we're going to use\n",
    "from helper_functions import create_tensorboard_callback, plot_loss_curves, unzip_data, walk_through_dir"
   ]
  },
  {
   "cell_type": "code",
   "execution_count": 32,
   "metadata": {},
   "outputs": [],
   "source": [
    "import wandb\n",
    "# wandb.login()\n",
    "# wandb.tensorboard.patch(root_logdir=\"logs\")\n",
    "# wandb.init(project=\"Food_not_Food\", sync_teensorboard=True)"
   ]
  },
  {
   "cell_type": "code",
   "execution_count": 33,
   "metadata": {},
   "outputs": [],
   "source": [
    "import tensorflow as tf\n",
    "import os\n",
    "tf.get_logger().setLevel('INFO')"
   ]
  },
  {
   "cell_type": "code",
   "execution_count": 34,
   "metadata": {},
   "outputs": [
    {
     "data": {
      "text/plain": [
       "[PhysicalDevice(name='/physical_device:CPU:0', device_type='CPU')]"
      ]
     },
     "execution_count": 34,
     "metadata": {},
     "output_type": "execute_result"
    }
   ],
   "source": [
    "tf.config.list_physical_devices()"
   ]
  },
  {
   "cell_type": "code",
   "execution_count": 35,
   "metadata": {},
   "outputs": [
    {
     "name": "stdout",
     "output_type": "stream",
     "text": [
      "\u001b[34madvocate\u001b[m\u001b[m \u001b[34mball\u001b[m\u001b[m     \u001b[34mtest\u001b[m\u001b[m     \u001b[34mtrain\u001b[m\u001b[m\n"
     ]
    }
   ],
   "source": [
    "!ls data/model_test_images/"
   ]
  },
  {
   "cell_type": "markdown",
   "metadata": {},
   "source": [
    "## Create train/test"
   ]
  },
  {
   "cell_type": "code",
   "execution_count": 36,
   "metadata": {},
   "outputs": [
    {
     "name": "stdout",
     "output_type": "stream",
     "text": [
      "mkdir: data/model_test_images/train: File exists\n",
      "mkdir: data/model_test_images/test: File exists\n"
     ]
    }
   ],
   "source": [
    "!mkdir data/model_test_images/train\n",
    "!mkdir data/model_test_images/test"
   ]
  },
  {
   "cell_type": "code",
   "execution_count": 37,
   "metadata": {},
   "outputs": [],
   "source": [
    "# Make splits of images\n"
   ]
  },
  {
   "cell_type": "code",
   "execution_count": 38,
   "metadata": {},
   "outputs": [
    {
     "data": {
      "text/plain": [
       "['test', 'ball', 'train', 'advocate']"
      ]
     },
     "execution_count": 38,
     "metadata": {},
     "output_type": "execute_result"
    }
   ],
   "source": [
    "target_dirs = os.listdir(\"data/model_test_images\")\n",
    "target_dirs"
   ]
  },
  {
   "cell_type": "code",
   "execution_count": 39,
   "metadata": {},
   "outputs": [],
   "source": [
    "# train_split = (int(0.8 * len(ball_images)))\n",
    "# train_split"
   ]
  },
  {
   "cell_type": "code",
   "execution_count": 40,
   "metadata": {},
   "outputs": [],
   "source": [
    "# import numpy as np\n",
    "\n",
    "# # Get random indexs of certain number from list of images\n",
    "# train_idx = np.arange(len(ball_images))\n",
    "# train_idx"
   ]
  },
  {
   "cell_type": "code",
   "execution_count": 41,
   "metadata": {},
   "outputs": [],
   "source": [
    "import random\n",
    "def create_train_test_list(target_dir):\n",
    "    random.seed(42)\n",
    "    image_list = [os.path.join(target_dir,img_path) for img_path in os.listdir(target_dir)]\n",
    "    train_split = int(0.8 * len(image_list))\n",
    "    train_image_list = random.sample(image_list,train_split)\n",
    "    test_image_list = list(set(image_list).difference(set(train_image_list)))\n",
    "    return train_image_list, test_image_list\n",
    "\n",
    "\n",
    "train_image_list, test_image_list = create_train_test_list(\"data/model_test_images/ball\")\n"
   ]
  },
  {
   "cell_type": "code",
   "execution_count": 42,
   "metadata": {},
   "outputs": [
    {
     "data": {
      "text/plain": [
       "(40, 10)"
      ]
     },
     "execution_count": 42,
     "metadata": {},
     "output_type": "execute_result"
    }
   ],
   "source": [
    "len(train_image_list), len(test_image_list)"
   ]
  },
  {
   "cell_type": "code",
   "execution_count": 43,
   "metadata": {},
   "outputs": [],
   "source": [
    "# Create a function to move images\n",
    "from shutil import copy2\n",
    "def copy_images_to_file(img_path_list, target_dir,train=True):\n",
    "        if train:\n",
    "            # Make target directory\n",
    "            # split_dir = \"train\"\n",
    "            # print(img_path_list[0])\n",
    "            # dir_to_make = os.path.join(target_dir,split_dir)\n",
    "            # target_dir = os.path.join(target_dir , \"train\",)\n",
    "            # os.makedirs(os.path.join(target_dir,split_dir) , exist_ok = True)\n",
    "            split_dir = \"train\"\n",
    "        else:\n",
    "            split_dir = \"test\"\n",
    "            # os.makedirs(os.path.join(target_dir, split_dir) , exist_ok = True)\n",
    "\n",
    "        # Copy images\n",
    "        for image_path in img_path_list:\n",
    "            image_file_name = os.path.split(image_path)[-1]\n",
    "            dest_path = os.path.join(target_dir, split_dir, image_dir, image_file_name)\n",
    "            print(f\"Copying: \\n{image_path} to \\n{dest_path}\")\n",
    "            copy2(image_path, dest_path)\n"
   ]
  },
  {
   "cell_type": "code",
   "execution_count": 44,
   "metadata": {},
   "outputs": [
    {
     "name": "stdout",
     "output_type": "stream",
     "text": [
      "Copying: \n",
      "data/model_test_images/ball/1181488980_d6ed3b626d.jpg to \n",
      "data/model_test_images_split/train/ball/1181488980_d6ed3b626d.jpg\n",
      "Copying: \n",
      "data/model_test_images/ball/65805171_3613f2bc4c.jpg to \n",
      "data/model_test_images_split/train/ball/65805171_3613f2bc4c.jpg\n",
      "Copying: \n",
      "data/model_test_images/ball/2591563110_a38db04623.jpg to \n",
      "data/model_test_images_split/train/ball/2591563110_a38db04623.jpg\n",
      "Copying: \n",
      "data/model_test_images/ball/2783605389_2243f28bb3.jpg to \n",
      "data/model_test_images_split/train/ball/2783605389_2243f28bb3.jpg\n",
      "Copying: \n",
      "data/model_test_images/ball/2568700291_6b16f45f10.jpg to \n",
      "data/model_test_images_split/train/ball/2568700291_6b16f45f10.jpg\n",
      "Copying: \n",
      "data/model_test_images/ball/3655368403_969b7e987e.jpg to \n",
      "data/model_test_images_split/train/ball/3655368403_969b7e987e.jpg\n",
      "Copying: \n",
      "data/model_test_images/ball/3531521851_4771fe48a9.jpg to \n",
      "data/model_test_images_split/train/ball/3531521851_4771fe48a9.jpg\n",
      "Copying: \n",
      "data/model_test_images/ball/3316080914_50ac9ce6bc.jpg to \n",
      "data/model_test_images_split/train/ball/3316080914_50ac9ce6bc.jpg\n",
      "Copying: \n",
      "data/model_test_images/ball/3116971648_79d1689efa.jpg to \n",
      "data/model_test_images_split/train/ball/3116971648_79d1689efa.jpg\n",
      "Copying: \n",
      "data/model_test_images/ball/448392603_b2b1c803ba.jpg to \n",
      "data/model_test_images_split/train/ball/448392603_b2b1c803ba.jpg\n",
      "Copying: \n",
      "data/model_test_images/ball/3193858520_6252fabc50.jpg to \n",
      "data/model_test_images_split/train/ball/3193858520_6252fabc50.jpg\n",
      "Copying: \n",
      "data/model_test_images/ball/2855159293_57e13da813.jpg to \n",
      "data/model_test_images_split/train/ball/2855159293_57e13da813.jpg\n",
      "Copying: \n",
      "data/model_test_images/ball/869982791_407ece841e.jpg to \n",
      "data/model_test_images_split/train/ball/869982791_407ece841e.jpg\n",
      "Copying: \n",
      "data/model_test_images/ball/826963751_9c34924475.jpg to \n",
      "data/model_test_images_split/train/ball/826963751_9c34924475.jpg\n",
      "Copying: \n",
      "data/model_test_images/ball/1691226382_b08fb578d6.jpg to \n",
      "data/model_test_images_split/train/ball/1691226382_b08fb578d6.jpg\n",
      "Copying: \n",
      "data/model_test_images/ball/2991720072_0eeecca48b.jpg to \n",
      "data/model_test_images_split/train/ball/2991720072_0eeecca48b.jpg\n",
      "Copying: \n",
      "data/model_test_images/ball/86293735_11047a8afe.jpg to \n",
      "data/model_test_images_split/train/ball/86293735_11047a8afe.jpg\n",
      "Copying: \n",
      "data/model_test_images/ball/2950800503_8f00180b88.jpg to \n",
      "data/model_test_images_split/train/ball/2950800503_8f00180b88.jpg\n",
      "Copying: \n",
      "data/model_test_images/ball/3081316016_8baf3f6dab.jpg to \n",
      "data/model_test_images_split/train/ball/3081316016_8baf3f6dab.jpg\n",
      "Copying: \n",
      "data/model_test_images/ball/2191207308_347bb7f9c5.jpg to \n",
      "data/model_test_images_split/train/ball/2191207308_347bb7f9c5.jpg\n",
      "Copying: \n",
      "data/model_test_images/ball/2270726612_0b3ce457ba.jpg to \n",
      "data/model_test_images_split/train/ball/2270726612_0b3ce457ba.jpg\n",
      "Copying: \n",
      "data/model_test_images/ball/4055327656_84f560d62d.jpg to \n",
      "data/model_test_images_split/train/ball/4055327656_84f560d62d.jpg\n",
      "Copying: \n",
      "data/model_test_images/ball/316281551_09e3c5785e.jpg to \n",
      "data/model_test_images_split/train/ball/316281551_09e3c5785e.jpg\n",
      "Copying: \n",
      "data/model_test_images/ball/2211116547_49f25518eb.jpg to \n",
      "data/model_test_images_split/train/ball/2211116547_49f25518eb.jpg\n",
      "Copying: \n",
      "data/model_test_images/ball/2308246227_f6fe7e6a51.jpg to \n",
      "data/model_test_images_split/train/ball/2308246227_f6fe7e6a51.jpg\n",
      "Copying: \n",
      "data/model_test_images/ball/3517025606_20f054e552.jpg to \n",
      "data/model_test_images_split/train/ball/3517025606_20f054e552.jpg\n",
      "Copying: \n",
      "data/model_test_images/ball/3251882893_e0ec7b1a07.jpg to \n",
      "data/model_test_images_split/train/ball/3251882893_e0ec7b1a07.jpg\n",
      "Copying: \n",
      "data/model_test_images/ball/2177055295_b4144916ba.jpg to \n",
      "data/model_test_images_split/train/ball/2177055295_b4144916ba.jpg\n",
      "Copying: \n",
      "data/model_test_images/ball/399976281_ed5dafd040.jpg to \n",
      "data/model_test_images_split/train/ball/399976281_ed5dafd040.jpg\n",
      "Copying: \n",
      "data/model_test_images/ball/2632730007_45905c609f.jpg to \n",
      "data/model_test_images_split/train/ball/2632730007_45905c609f.jpg\n",
      "Copying: \n",
      "data/model_test_images/ball/4274921670_081d298ea2.jpg to \n",
      "data/model_test_images_split/train/ball/4274921670_081d298ea2.jpg\n",
      "Copying: \n",
      "data/model_test_images/ball/2747900844_288f8cc2f8.jpg to \n",
      "data/model_test_images_split/train/ball/2747900844_288f8cc2f8.jpg\n",
      "Copying: \n",
      "data/model_test_images/ball/122856398_8e904ae7a3.jpg to \n",
      "data/model_test_images_split/train/ball/122856398_8e904ae7a3.jpg\n",
      "Copying: \n",
      "data/model_test_images/ball/175360455_a1ee0d5c08.jpg to \n",
      "data/model_test_images_split/train/ball/175360455_a1ee0d5c08.jpg\n",
      "Copying: \n",
      "data/model_test_images/ball/4349962496_099245cf0a.jpg to \n",
      "data/model_test_images_split/train/ball/4349962496_099245cf0a.jpg\n",
      "Copying: \n",
      "data/model_test_images/ball/322987210_d815155f25.jpg to \n",
      "data/model_test_images_split/train/ball/322987210_d815155f25.jpg\n",
      "Copying: \n",
      "data/model_test_images/ball/2870147293_bd0a437325.jpg to \n",
      "data/model_test_images_split/train/ball/2870147293_bd0a437325.jpg\n",
      "Copying: \n",
      "data/model_test_images/ball/2549361323_b3d223f4e6.jpg to \n",
      "data/model_test_images_split/train/ball/2549361323_b3d223f4e6.jpg\n",
      "Copying: \n",
      "data/model_test_images/ball/527542255_0a89da04fe.jpg to \n",
      "data/model_test_images_split/train/ball/527542255_0a89da04fe.jpg\n",
      "Copying: \n",
      "data/model_test_images/ball/2123302415_15508ec0f6.jpg to \n",
      "data/model_test_images_split/train/ball/2123302415_15508ec0f6.jpg\n",
      "Copying: \n",
      "data/model_test_images/ball/2745991714_fcff5da5b1.jpg to \n",
      "data/model_test_images_split/test/ball/2745991714_fcff5da5b1.jpg\n",
      "Copying: \n",
      "data/model_test_images/ball/3063953134_a48da6403d.jpg to \n",
      "data/model_test_images_split/test/ball/3063953134_a48da6403d.jpg\n",
      "Copying: \n",
      "data/model_test_images/ball/3308263209_f9a6d60f88.jpg to \n",
      "data/model_test_images_split/test/ball/3308263209_f9a6d60f88.jpg\n",
      "Copying: \n",
      "data/model_test_images/ball/2076459727_1b86d15584.jpg to \n",
      "data/model_test_images_split/test/ball/2076459727_1b86d15584.jpg\n",
      "Copying: \n",
      "data/model_test_images/ball/3102567374_713e75ed73.jpg to \n",
      "data/model_test_images_split/test/ball/3102567374_713e75ed73.jpg\n",
      "Copying: \n",
      "data/model_test_images/ball/3780722222_353ff9c33c.jpg to \n",
      "data/model_test_images_split/test/ball/3780722222_353ff9c33c.jpg\n",
      "Copying: \n",
      "data/model_test_images/ball/3055393130_fec22a1c6f.jpg to \n",
      "data/model_test_images_split/test/ball/3055393130_fec22a1c6f.jpg\n",
      "Copying: \n",
      "data/model_test_images/ball/3538937919_6dc83890a3.jpg to \n",
      "data/model_test_images_split/test/ball/3538937919_6dc83890a3.jpg\n",
      "Copying: \n",
      "data/model_test_images/ball/4116907592_72b8680fa2.jpg to \n",
      "data/model_test_images_split/test/ball/4116907592_72b8680fa2.jpg\n",
      "Copying: \n",
      "data/model_test_images/ball/2537952430_237098c5ab.jpg to \n",
      "data/model_test_images_split/test/ball/2537952430_237098c5ab.jpg\n",
      "Copying: \n",
      "data/model_test_images/advocate/4813519609_9a57cb2ba0.jpg to \n",
      "data/model_test_images_split/train/advocate/4813519609_9a57cb2ba0.jpg\n",
      "Copying: \n",
      "data/model_test_images/advocate/790158098_efb15d2d8f.jpg to \n",
      "data/model_test_images_split/train/advocate/790158098_efb15d2d8f.jpg\n",
      "Copying: \n",
      "data/model_test_images/advocate/4520833063_6fcdf8bdf3.jpg to \n",
      "data/model_test_images_split/train/advocate/4520833063_6fcdf8bdf3.jpg\n",
      "Copying: \n",
      "data/model_test_images/advocate/3860095146_fb7a5275c8.jpg to \n",
      "data/model_test_images_split/train/advocate/3860095146_fb7a5275c8.jpg\n",
      "Copying: \n",
      "data/model_test_images/advocate/4703684995_a52038d74b.jpg to \n",
      "data/model_test_images_split/train/advocate/4703684995_a52038d74b.jpg\n",
      "Copying: \n",
      "data/model_test_images/advocate/3306746882_dd7673cb03.jpg to \n",
      "data/model_test_images_split/train/advocate/3306746882_dd7673cb03.jpg\n",
      "Copying: \n",
      "data/model_test_images/advocate/4667094052_0b19e6b7a3.jpg to \n",
      "data/model_test_images_split/train/advocate/4667094052_0b19e6b7a3.jpg\n",
      "Copying: \n",
      "data/model_test_images/advocate/4667141980_0453938fbb.jpg to \n",
      "data/model_test_images_split/train/advocate/4667141980_0453938fbb.jpg\n",
      "Copying: \n",
      "data/model_test_images/advocate/4444440303_2bc103eeb9.jpg to \n",
      "data/model_test_images_split/train/advocate/4444440303_2bc103eeb9.jpg\n",
      "Copying: \n",
      "data/model_test_images/advocate/4752037382_aa07384417.jpg to \n",
      "data/model_test_images_split/train/advocate/4752037382_aa07384417.jpg\n",
      "Copying: \n",
      "data/model_test_images/advocate/3192144509_7a0c7a3214.jpg to \n",
      "data/model_test_images_split/train/advocate/3192144509_7a0c7a3214.jpg\n",
      "Copying: \n",
      "data/model_test_images/advocate/4728933062_44770224c8.jpg to \n",
      "data/model_test_images_split/train/advocate/4728933062_44770224c8.jpg\n",
      "Copying: \n",
      "data/model_test_images/advocate/2040426517_329d2431a9_d.jpg to \n",
      "data/model_test_images_split/train/advocate/2040426517_329d2431a9_d.jpg\n",
      "Copying: \n",
      "data/model_test_images/advocate/3342465888_2ea6d6d0a2.jpg to \n",
      "data/model_test_images_split/train/advocate/3342465888_2ea6d6d0a2.jpg\n",
      "Copying: \n",
      "data/model_test_images/advocate/62153761_7fcd3bd818.jpg to \n",
      "data/model_test_images_split/train/advocate/62153761_7fcd3bd818.jpg\n",
      "Copying: \n",
      "data/model_test_images/advocate/4596789863_4b5ba985ef.jpg to \n",
      "data/model_test_images_split/train/advocate/4596789863_4b5ba985ef.jpg\n",
      "Copying: \n",
      "data/model_test_images/advocate/260888809_c09c5cdb22.jpg to \n",
      "data/model_test_images_split/train/advocate/260888809_c09c5cdb22.jpg\n",
      "Copying: \n",
      "data/model_test_images/advocate/3862172955_5f22e48c61.jpg to \n",
      "data/model_test_images_split/train/advocate/3862172955_5f22e48c61.jpg\n",
      "Copying: \n",
      "data/model_test_images/advocate/4346958498_a0cf9650d9.jpg to \n",
      "data/model_test_images_split/train/advocate/4346958498_a0cf9650d9.jpg\n",
      "Copying: \n",
      "data/model_test_images/advocate/3513224534_638eec386c.jpg to \n",
      "data/model_test_images_split/train/advocate/3513224534_638eec386c.jpg\n",
      "Copying: \n",
      "data/model_test_images/advocate/3613551773_ce1c5499c8.jpg to \n",
      "data/model_test_images_split/train/advocate/3613551773_ce1c5499c8.jpg\n",
      "Copying: \n",
      "data/model_test_images/advocate/4667138784_094220621f.jpg to \n",
      "data/model_test_images_split/train/advocate/4667138784_094220621f.jpg\n",
      "Copying: \n",
      "data/model_test_images/advocate/4408370944_7631c35273.jpg to \n",
      "data/model_test_images_split/train/advocate/4408370944_7631c35273.jpg\n",
      "Copying: \n",
      "data/model_test_images/advocate/4933222838_f61326755a.jpg to \n",
      "data/model_test_images_split/train/advocate/4933222838_f61326755a.jpg\n",
      "Copying: \n",
      "data/model_test_images/advocate/4536112426_5a6b9cae2e.jpg to \n",
      "data/model_test_images_split/train/advocate/4536112426_5a6b9cae2e.jpg\n",
      "Copying: \n",
      "data/model_test_images/advocate/4789417559_206cb043a8.jpg to \n",
      "data/model_test_images_split/train/advocate/4789417559_206cb043a8.jpg\n",
      "Copying: \n",
      "data/model_test_images/advocate/3359641725_749867256b.jpg to \n",
      "data/model_test_images_split/train/advocate/3359641725_749867256b.jpg\n",
      "Copying: \n",
      "data/model_test_images/advocate/4666504371_a1cb1a074e.jpg to \n",
      "data/model_test_images_split/train/advocate/4666504371_a1cb1a074e.jpg\n",
      "Copying: \n",
      "data/model_test_images/advocate/4457160219_78eee06071.jpg to \n",
      "data/model_test_images_split/train/advocate/4457160219_78eee06071.jpg\n",
      "Copying: \n",
      "data/model_test_images/advocate/3043814435_7d4045678e.jpg to \n",
      "data/model_test_images_split/train/advocate/3043814435_7d4045678e.jpg\n",
      "Copying: \n",
      "data/model_test_images/advocate/4775083198_c4207d8f8f.jpg to \n",
      "data/model_test_images_split/train/advocate/4775083198_c4207d8f8f.jpg\n",
      "Copying: \n",
      "data/model_test_images/advocate/4346174939_e42c1372c6.jpg to \n",
      "data/model_test_images_split/train/advocate/4346174939_e42c1372c6.jpg\n",
      "Copying: \n",
      "data/model_test_images/advocate/3770118411_7a2b683abc.jpg to \n",
      "data/model_test_images_split/train/advocate/3770118411_7a2b683abc.jpg\n",
      "Copying: \n",
      "data/model_test_images/advocate/4722331604_4670784192.jpg to \n",
      "data/model_test_images_split/train/advocate/4722331604_4670784192.jpg\n",
      "Copying: \n",
      "data/model_test_images/advocate/3941722844_eac4241b1c.jpg to \n",
      "data/model_test_images_split/train/advocate/3941722844_eac4241b1c.jpg\n",
      "Copying: \n",
      "data/model_test_images/advocate/2971927406_8bef0f6697.jpg to \n",
      "data/model_test_images_split/train/advocate/2971927406_8bef0f6697.jpg\n",
      "Copying: \n",
      "data/model_test_images/advocate/5013989298_c19658f7ed.jpg to \n",
      "data/model_test_images_split/train/advocate/5013989298_c19658f7ed.jpg\n",
      "Copying: \n",
      "data/model_test_images/advocate/3359643567_2daf8f21f0.jpg to \n",
      "data/model_test_images_split/train/advocate/3359643567_2daf8f21f0.jpg\n",
      "Copying: \n",
      "data/model_test_images/advocate/3531165493_cea1170176.jpg to \n",
      "data/model_test_images_split/train/advocate/3531165493_cea1170176.jpg\n",
      "Copying: \n",
      "data/model_test_images/advocate/1474170449_ee00c42a93.jpg to \n",
      "data/model_test_images_split/train/advocate/1474170449_ee00c42a93.jpg\n",
      "Copying: \n",
      "data/model_test_images/advocate/4988787850_ddb8d70634.jpg to \n",
      "data/model_test_images_split/test/advocate/4988787850_ddb8d70634.jpg\n",
      "Copying: \n",
      "data/model_test_images/advocate/4907622079_f29b6441dd.jpg to \n",
      "data/model_test_images_split/test/advocate/4907622079_f29b6441dd.jpg\n",
      "Copying: \n",
      "data/model_test_images/advocate/4739457385_fd1dce8e86.jpg to \n",
      "data/model_test_images_split/test/advocate/4739457385_fd1dce8e86.jpg\n",
      "Copying: \n",
      "data/model_test_images/advocate/2037778565_f2bbbc810c.jpg to \n",
      "data/model_test_images_split/test/advocate/2037778565_f2bbbc810c.jpg\n",
      "Copying: \n",
      "data/model_test_images/advocate/4549899494_81e0c8567b.jpg to \n",
      "data/model_test_images_split/test/advocate/4549899494_81e0c8567b.jpg\n",
      "Copying: \n",
      "data/model_test_images/advocate/562415976_bda7fb3dc9.jpg to \n",
      "data/model_test_images_split/test/advocate/562415976_bda7fb3dc9.jpg\n",
      "Copying: \n",
      "data/model_test_images/advocate/448275657_84f39c3d9d.jpg to \n",
      "data/model_test_images_split/test/advocate/448275657_84f39c3d9d.jpg\n",
      "Copying: \n",
      "data/model_test_images/advocate/4667123510_f919e2dac5.jpg to \n",
      "data/model_test_images_split/test/advocate/4667123510_f919e2dac5.jpg\n",
      "Copying: \n",
      "data/model_test_images/advocate/3727192860_d441d73d0b.jpg to \n",
      "data/model_test_images_split/test/advocate/3727192860_d441d73d0b.jpg\n",
      "Copying: \n",
      "data/model_test_images/advocate/3041395367_65bdf1007c.jpg to \n",
      "data/model_test_images_split/test/advocate/3041395367_65bdf1007c.jpg\n"
     ]
    }
   ],
   "source": [
    "data_dir = \"data/model_test_images\"\n",
    "target_dir = \"data/model_test_images_split\"\n",
    "for image_dir in os.listdir(data_dir):\n",
    "    # print(image_dir)\n",
    "\n",
    "    for split_dir in [ \"train\", \"test\"]:\n",
    "        os.makedirs(os.path.join(target_dir, split_dir, image_dir) , exist_ok= True)\n",
    "\n",
    "    # Make training and test lists of target images\n",
    "    train_image_list , test_image_list = create_train_test_list(os.path.join(data_dir, image_dir))\n",
    "\n",
    "    # Copy training images\n",
    "    copy_images_to_file(img_path_list = train_image_list, \n",
    "                        target_dir = target_dir,\n",
    "                        train=True)\n",
    "\n",
    "    # Copt test images \n",
    "    copy_images_to_file(img_path_list = test_image_list, \n",
    "                        target_dir = target_dir,\n",
    "                        train=False)"
   ]
  },
  {
   "cell_type": "code",
   "execution_count": 45,
   "metadata": {},
   "outputs": [],
   "source": [
    "# Next\n",
    "# Make model tataset from train/test folders\n",
    "# Build a model on train/test datasets\n",
    "# Evaluate model\n",
    "# Convert model to tfilte for deployment"
   ]
  },
  {
   "cell_type": "markdown",
   "metadata": {},
   "source": [
    "## Load data"
   ]
  },
  {
   "cell_type": "code",
   "execution_count": 46,
   "metadata": {},
   "outputs": [],
   "source": [
    "import tensorflow as tf"
   ]
  },
  {
   "cell_type": "code",
   "execution_count": 47,
   "metadata": {},
   "outputs": [
    {
     "data": {
      "text/plain": [
       "('data/model_test_images_split/train', 'data/model_test_images_split/test')"
      ]
     },
     "execution_count": 47,
     "metadata": {},
     "output_type": "execute_result"
    }
   ],
   "source": [
    "train_dir = \"data/model_test_images_split/train\"\n",
    "test_dir = \"data/model_test_images_split/test\"\n",
    "train_dir, test_dir"
   ]
  },
  {
   "cell_type": "code",
   "execution_count": 48,
   "metadata": {},
   "outputs": [
    {
     "name": "stdout",
     "output_type": "stream",
     "text": [
      "Found 80 files belonging to 4 classes.\n",
      "Found 20 files belonging to 4 classes.\n"
     ]
    },
    {
     "data": {
      "text/plain": [
       "(<BatchDataset element_spec=(TensorSpec(shape=(None, 224, 224, 3), dtype=tf.float32, name=None), TensorSpec(shape=(None,), dtype=tf.int32, name=None))>,\n",
       " <BatchDataset element_spec=(TensorSpec(shape=(None, 224, 224, 3), dtype=tf.float32, name=None), TensorSpec(shape=(None,), dtype=tf.int32, name=None))>)"
      ]
     },
     "execution_count": 48,
     "metadata": {},
     "output_type": "execute_result"
    }
   ],
   "source": [
    "# Load in data\n",
    "train_data = tf.keras.preprocessing.image_dataset_from_directory(train_dir,\n",
    "    batch_size=32,\n",
    "    image_size=(224,224)\n",
    ") \n",
    "test_data = tf.keras.preprocessing.image_dataset_from_directory(test_dir,\n",
    "    batch_size=32,\n",
    "    image_size=(224,224)\n",
    ") \n",
    "train_data, test_data"
   ]
  },
  {
   "cell_type": "code",
   "execution_count": 49,
   "metadata": {},
   "outputs": [
    {
     "data": {
      "text/plain": [
       "['advocate', 'ball', 'test', 'train']"
      ]
     },
     "execution_count": 49,
     "metadata": {},
     "output_type": "execute_result"
    }
   ],
   "source": [
    "train_data.class_names"
   ]
  },
  {
   "cell_type": "code",
   "execution_count": 50,
   "metadata": {},
   "outputs": [],
   "source": [
    "# Small model with two classes"
   ]
  },
  {
   "cell_type": "markdown",
   "metadata": {},
   "source": [
    "## Build the first model"
   ]
  },
  {
   "cell_type": "code",
   "execution_count": 51,
   "metadata": {},
   "outputs": [],
   "source": [
    "train_data = train_data.prefetch(tf.data.AUTOTUNE)\n",
    "test_data = test_data.prefetch(tf.data.AUTOTUNE)"
   ]
  },
  {
   "cell_type": "code",
   "execution_count": 52,
   "metadata": {},
   "outputs": [
    {
     "data": {
      "text/plain": [
       "<keras.engine.functional.Functional at 0x15f802560>"
      ]
     },
     "execution_count": 52,
     "metadata": {},
     "output_type": "execute_result"
    }
   ],
   "source": [
    "# Replace top with our image\n",
    "base_model = tf.keras.applications.EfficientNetB0(include_top=False)\n",
    "\n",
    "# base_model\n",
    "# Make model untrainable\n",
    "base_model.trainable = False\n",
    "\n",
    "# Build a functional model\n",
    "input_layer = tf.keras.layers.Input (shape = (224,224,3))\n",
    "x = base_model(input_layer)\n",
    "x = tf.keras.layers.GlobalAveragePooling2D()(x)\n",
    "output_layer = tf.keras.layers.Dense(1,activation=\"sigmoid\")(x)\n",
    "\n",
    "# Construct model\n",
    "model_1 = tf.keras.Model(input_layer, output_layer, name =\"EfficientNetB0-V1\")\n",
    "model_1"
   ]
  },
  {
   "cell_type": "code",
   "execution_count": 53,
   "metadata": {},
   "outputs": [
    {
     "data": {
      "image/png": "[encoded data removed]",
      "text/plain": [
       "<IPython.core.display.Image object>"
      ]
     },
     "execution_count": 53,
     "metadata": {},
     "output_type": "execute_result"
    }
   ],
   "source": [
    "tf.keras.utils.plot_model(model_1,show_shapes=True)"
   ]
  },
  {
   "cell_type": "code",
   "execution_count": 54,
   "metadata": {},
   "outputs": [],
   "source": [
    "# Complie model\n",
    "model_1.compile(loss=tf.keras.losses.BinaryCrossentropy(),\n",
    "    optimizer = tf.keras.optimizers.Adam(),\n",
    "    metrics = [\"accuracy\"]\n",
    ")"
   ]
  },
  {
   "cell_type": "code",
   "execution_count": 55,
   "metadata": {},
   "outputs": [],
   "source": [
    "# Create EarlyStopping callback\n",
    "early_stopping = tf.keras.callbacks.EarlyStopping(patience=5,\n",
    "    monitor = \"loss\"\n",
    ")\n"
   ]
  },
  {
   "cell_type": "code",
   "execution_count": 56,
   "metadata": {},
   "outputs": [
    {
     "data": {
      "text/html": [
       "Finishing last run (ID:2a2znkir) before initializing another..."
      ],
      "text/plain": [
       "<IPython.core.display.HTML object>"
      ]
     },
     "metadata": {},
     "output_type": "display_data"
    },
    {
     "data": {
      "text/html": [
       "Waiting for W&B process to finish... <strong style=\"color:green\">(success).</strong>"
      ],
      "text/plain": [
       "<IPython.core.display.HTML object>"
      ]
     },
     "metadata": {},
     "output_type": "display_data"
    },
    {
     "data": {
      "text/html": [
       "<style>\n",
       "    table.wandb td:nth-child(1) { padding: 0 10px; text-align: left ; width: auto;} td:nth-child(2) {text-align: left ; width: 100%}\n",
       "    .wandb-row { display: flex; flex-direction: row; flex-wrap: wrap; justify-content: flex-start; width: 100% }\n",
       "    .wandb-col { display: flex; flex-direction: column; flex-basis: 100%; flex: 1; padding: 10px; }\n",
       "    </style>\n",
       "<div class=\"wandb-row\"><div class=\"wandb-col\"><h3>Run history:</h3><br/><table class=\"wandb\"><tr><td>global_step</td><td>▁▁▁▂▂▂▂▂▃▃▃▃▃▃▄▄▄▄▄▅▅▅▅▅▅▅▆▆▆▆▆▆▇▇▇▇▇███</td></tr><tr><td>train/epoch_accuracy</td><td>▁▄▆▇▇███████████████████████████████████</td></tr><tr><td>train/epoch_loss</td><td>█▇▆▅▄▃▃▃▂▂▂▂▂▂▂▂▁▁▁▁▁▁▁▁▁▁▁▁▁▁▁▁▁▁▁▁▁▁▁▁</td></tr><tr><td>train/global_step</td><td>▁▁▁▁▂▂▂▂▂▃▃▃▃▃▃▄▄▄▄▄▅▅▅▅▅▅▆▆▆▆▆▆▇▇▇▇▇███</td></tr><tr><td>validation/epoch_accuracy</td><td>▁▅▆▆▆▆▆▆▆▇▇▇████████████████████████████</td></tr><tr><td>validation/epoch_loss</td><td>█▇▆▅▄▄▃▃▃▃▂▂▂▂▂▂▂▂▁▁▁▁▁▁▁▁▁▁▁▁▁▁▁▁▁▁▁▁▁▁</td></tr><tr><td>validation/evaluation_accuracy_vs_iterations</td><td>▁▅▆▆▆▆▆▆▆▇▇▇████████████████████████████</td></tr><tr><td>validation/evaluation_loss_vs_iterations</td><td>█▇▆▅▄▄▃▃▃▃▂▂▂▂▂▂▂▂▁▁▁▁▁▁▁▁▁▁▁▁▁▁▁▁▁▁▁▁▁▁</td></tr><tr><td>validation/global_step</td><td>▁▁▁▁▂▂▂▂▂▂▃▃▃▃▃▄▄▄▄▄▄▅▅▅▅▅▆▆▆▆▆▆▇▇▇▇▇███</td></tr></table><br/></div><div class=\"wandb-col\"><h3>Run summary:</h3><br/><table class=\"wandb\"><tr><td>global_step</td><td>150</td></tr><tr><td>train/epoch_accuracy</td><td>1.0</td></tr><tr><td>train/epoch_loss</td><td>0.01995</td></tr><tr><td>train/global_step</td><td>49</td></tr><tr><td>validation/epoch_accuracy</td><td>0.95</td></tr><tr><td>validation/epoch_loss</td><td>0.11304</td></tr><tr><td>validation/evaluation_accuracy_vs_iterations</td><td>0.95</td></tr><tr><td>validation/evaluation_loss_vs_iterations</td><td>0.11304</td></tr><tr><td>validation/global_step</td><td>49</td></tr></table><br/></div></div>"
      ],
      "text/plain": [
       "<IPython.core.display.HTML object>"
      ]
     },
     "metadata": {},
     "output_type": "display_data"
    },
    {
     "data": {
      "text/html": [
       "Synced <strong style=\"color:#cdcd00\">faithful-sun-1</strong>: <a href=\"https://wandb.ai/jaehwan0/projects-Food_not_Food/runs/2a2znkir\" target=\"_blank\">https://wandb.ai/jaehwan0/projects-Food_not_Food/runs/2a2znkir</a><br/>Synced 5 W&B file(s), 0 media file(s), 0 artifact file(s) and 2 other file(s)"
      ],
      "text/plain": [
       "<IPython.core.display.HTML object>"
      ]
     },
     "metadata": {},
     "output_type": "display_data"
    },
    {
     "data": {
      "text/html": [
       "Find logs at: <code>./wandb/run-20221016_153626-2a2znkir/logs</code>"
      ],
      "text/plain": [
       "<IPython.core.display.HTML object>"
      ]
     },
     "metadata": {},
     "output_type": "display_data"
    },
    {
     "data": {
      "text/html": [
       "Successfully finished last run (ID:2a2znkir). Initializing new run:<br/>"
      ],
      "text/plain": [
       "<IPython.core.display.HTML object>"
      ]
     },
     "metadata": {},
     "output_type": "display_data"
    },
    {
     "data": {
      "application/vnd.jupyter.widget-view+json": {
       "model_id": "8b7314544c39466b81ad1b14fdec7566",
       "version_major": 2,
       "version_minor": 0
      },
      "text/plain": [
       "VBox(children=(Label(value='Waiting for wandb.init()...\\r'), FloatProgress(value=0.01669218303331945, max=1.0)…"
      ]
     },
     "metadata": {},
     "output_type": "display_data"
    },
    {
     "data": {
      "text/html": [
       "Tracking run with wandb version 0.13.4"
      ],
      "text/plain": [
       "<IPython.core.display.HTML object>"
      ]
     },
     "metadata": {},
     "output_type": "display_data"
    },
    {
     "data": {
      "text/html": [
       "Run data is saved locally in <code>/Users/jaehwan/Desktop/projects/Food_not_Food/wandb/run-20221016_154732-2qm4k8s7</code>"
      ],
      "text/plain": [
       "<IPython.core.display.HTML object>"
      ]
     },
     "metadata": {},
     "output_type": "display_data"
    },
    {
     "data": {
      "text/html": [
       "Syncing run <strong><a href=\"https://wandb.ai/jaehwan0/projects-Food_not_Food/runs/2qm4k8s7\" target=\"_blank\">sweet-cherry-2</a></strong> to <a href=\"https://wandb.ai/jaehwan0/projects-Food_not_Food\" target=\"_blank\">Weights & Biases</a> (<a href=\"https://wandb.me/run\" target=\"_blank\">docs</a>)<br/>"
      ],
      "text/plain": [
       "<IPython.core.display.HTML object>"
      ]
     },
     "metadata": {},
     "output_type": "display_data"
    },
    {
     "name": "stderr",
     "output_type": "stream",
     "text": [
      "\u001b[34m\u001b[1mwandb\u001b[0m: \u001b[33mWARNING\u001b[0m When using several event log directories, please call `wandb.tensorboard.patch(root_logdir=\"...\")` before `wandb.init`\n"
     ]
    },
    {
     "name": "stdout",
     "output_type": "stream",
     "text": [
      "Saving TensorBoard log files to: logs/EfficientNetB0-V1/20221016-154750\n",
      "WARNING:tensorflow:Model failed to serialize as JSON. Ignoring... Unable to serialize [2.0896919 2.1128857 2.1081853] to JSON. Unrecognized type <class 'tensorflow.python.framework.ops.EagerTensor'>.\n",
      "Epoch 1/50\n",
      "3/3 [==============================] - ETA: 0s - loss: 0.6761 - accuracy: 0.5875"
     ]
    },
    {
     "name": "stderr",
     "output_type": "stream",
     "text": [
      "\u001b[34m\u001b[1mwandb\u001b[0m: \u001b[33mWARNING\u001b[0m When using several event log directories, please call `wandb.tensorboard.patch(root_logdir=\"...\")` before `wandb.init`\n"
     ]
    },
    {
     "name": "stdout",
     "output_type": "stream",
     "text": [
      "3/3 [==============================] - 12s 2s/step - loss: 0.6761 - accuracy: 0.5875 - val_loss: 0.6388 - val_accuracy: 0.6500\n",
      "Epoch 2/50\n",
      "3/3 [==============================] - 5s 2s/step - loss: 0.5419 - accuracy: 0.7750 - val_loss: 0.5433 - val_accuracy: 0.8000\n",
      "Epoch 3/50\n",
      "3/3 [==============================] - 4s 1s/step - loss: 0.4381 - accuracy: 0.9125 - val_loss: 0.4710 - val_accuracy: 0.8500\n",
      "Epoch 4/50\n",
      "3/3 [==============================] - 4s 1s/step - loss: 0.3716 - accuracy: 0.9250 - val_loss: 0.4171 - val_accuracy: 0.8500\n",
      "Epoch 5/50\n",
      "3/3 [==============================] - 4s 1s/step - loss: 0.3111 - accuracy: 0.9375 - val_loss: 0.3765 - val_accuracy: 0.8500\n",
      "Epoch 6/50\n",
      "3/3 [==============================] - 3s 1s/step - loss: 0.2709 - accuracy: 0.9750 - val_loss: 0.3452 - val_accuracy: 0.8500\n",
      "Epoch 7/50\n",
      "3/3 [==============================] - 3s 1s/step - loss: 0.2282 - accuracy: 0.9750 - val_loss: 0.3170 - val_accuracy: 0.8500\n",
      "Epoch 8/50\n",
      "3/3 [==============================] - 3s 1s/step - loss: 0.2071 - accuracy: 0.9750 - val_loss: 0.2921 - val_accuracy: 0.8500\n",
      "Epoch 9/50\n",
      "3/3 [==============================] - 3s 1s/step - loss: 0.1763 - accuracy: 1.0000 - val_loss: 0.2701 - val_accuracy: 0.8500\n",
      "Epoch 10/50\n",
      "3/3 [==============================] - 4s 1s/step - loss: 0.1640 - accuracy: 0.9750 - val_loss: 0.2504 - val_accuracy: 0.8500\n",
      "Epoch 11/50\n",
      "3/3 [==============================] - 3s 1s/step - loss: 0.1447 - accuracy: 0.9750 - val_loss: 0.2334 - val_accuracy: 0.9000\n",
      "Epoch 12/50\n",
      "3/3 [==============================] - 4s 1s/step - loss: 0.1279 - accuracy: 0.9875 - val_loss: 0.2198 - val_accuracy: 0.9000\n",
      "Epoch 13/50\n",
      "3/3 [==============================] - 3s 1s/step - loss: 0.1101 - accuracy: 1.0000 - val_loss: 0.2085 - val_accuracy: 0.9500\n",
      "Epoch 14/50\n",
      "3/3 [==============================] - 3s 1s/step - loss: 0.1018 - accuracy: 1.0000 - val_loss: 0.1985 - val_accuracy: 0.9500\n",
      "Epoch 15/50\n",
      "3/3 [==============================] - 3s 1s/step - loss: 0.0920 - accuracy: 1.0000 - val_loss: 0.1903 - val_accuracy: 0.9500\n",
      "Epoch 16/50\n",
      "3/3 [==============================] - 3s 1s/step - loss: 0.0851 - accuracy: 1.0000 - val_loss: 0.1835 - val_accuracy: 0.9500\n",
      "Epoch 17/50\n",
      "3/3 [==============================] - 3s 1s/step - loss: 0.0848 - accuracy: 1.0000 - val_loss: 0.1783 - val_accuracy: 0.9500\n",
      "Epoch 18/50\n",
      "3/3 [==============================] - 3s 1s/step - loss: 0.0741 - accuracy: 1.0000 - val_loss: 0.1732 - val_accuracy: 0.9500\n",
      "Epoch 19/50\n",
      "3/3 [==============================] - 3s 1s/step - loss: 0.0735 - accuracy: 1.0000 - val_loss: 0.1693 - val_accuracy: 0.9500\n",
      "Epoch 20/50\n",
      "3/3 [==============================] - 3s 1s/step - loss: 0.0705 - accuracy: 1.0000 - val_loss: 0.1662 - val_accuracy: 0.9500\n",
      "Epoch 21/50\n",
      "3/3 [==============================] - 3s 1s/step - loss: 0.0673 - accuracy: 1.0000 - val_loss: 0.1622 - val_accuracy: 0.9500\n",
      "Epoch 22/50\n",
      "3/3 [==============================] - 4s 2s/step - loss: 0.0630 - accuracy: 1.0000 - val_loss: 0.1586 - val_accuracy: 0.9500\n",
      "Epoch 23/50\n",
      "3/3 [==============================] - 4s 1s/step - loss: 0.0530 - accuracy: 1.0000 - val_loss: 0.1551 - val_accuracy: 0.9500\n",
      "Epoch 24/50\n",
      "3/3 [==============================] - 3s 1s/step - loss: 0.0550 - accuracy: 1.0000 - val_loss: 0.1517 - val_accuracy: 0.9500\n",
      "Epoch 25/50\n",
      "3/3 [==============================] - 3s 1s/step - loss: 0.0549 - accuracy: 1.0000 - val_loss: 0.1483 - val_accuracy: 0.9500\n",
      "Epoch 26/50\n",
      "3/3 [==============================] - 3s 1s/step - loss: 0.0502 - accuracy: 1.0000 - val_loss: 0.1452 - val_accuracy: 0.9500\n",
      "Epoch 27/50\n",
      "3/3 [==============================] - 4s 1s/step - loss: 0.0446 - accuracy: 1.0000 - val_loss: 0.1425 - val_accuracy: 0.9500\n",
      "Epoch 28/50\n",
      "3/3 [==============================] - 4s 1s/step - loss: 0.0432 - accuracy: 1.0000 - val_loss: 0.1405 - val_accuracy: 0.9500\n",
      "Epoch 29/50\n",
      "3/3 [==============================] - 4s 1s/step - loss: 0.0449 - accuracy: 1.0000 - val_loss: 0.1382 - val_accuracy: 0.9500\n",
      "Epoch 30/50\n",
      "3/3 [==============================] - 4s 1s/step - loss: 0.0424 - accuracy: 1.0000 - val_loss: 0.1368 - val_accuracy: 0.9500\n",
      "Epoch 31/50\n",
      "3/3 [==============================] - 4s 1s/step - loss: 0.0388 - accuracy: 1.0000 - val_loss: 0.1355 - val_accuracy: 0.9500\n",
      "Epoch 32/50\n",
      "3/3 [==============================] - 3s 1s/step - loss: 0.0387 - accuracy: 1.0000 - val_loss: 0.1340 - val_accuracy: 0.9500\n",
      "Epoch 33/50\n",
      "3/3 [==============================] - 4s 1s/step - loss: 0.0399 - accuracy: 1.0000 - val_loss: 0.1333 - val_accuracy: 0.9500\n",
      "Epoch 34/50\n",
      "3/3 [==============================] - 4s 1s/step - loss: 0.0365 - accuracy: 1.0000 - val_loss: 0.1320 - val_accuracy: 0.9500\n",
      "Epoch 35/50\n",
      "3/3 [==============================] - 4s 1s/step - loss: 0.0317 - accuracy: 1.0000 - val_loss: 0.1302 - val_accuracy: 0.9500\n",
      "Epoch 36/50\n",
      "3/3 [==============================] - 3s 1s/step - loss: 0.0383 - accuracy: 1.0000 - val_loss: 0.1291 - val_accuracy: 0.9500\n",
      "Epoch 37/50\n",
      "3/3 [==============================] - 3s 1s/step - loss: 0.0302 - accuracy: 1.0000 - val_loss: 0.1270 - val_accuracy: 0.9500\n",
      "Epoch 38/50\n",
      "3/3 [==============================] - 3s 1s/step - loss: 0.0287 - accuracy: 1.0000 - val_loss: 0.1251 - val_accuracy: 0.9500\n",
      "Epoch 39/50\n",
      "3/3 [==============================] - 3s 1s/step - loss: 0.0289 - accuracy: 1.0000 - val_loss: 0.1231 - val_accuracy: 0.9500\n",
      "Epoch 40/50\n",
      "3/3 [==============================] - 3s 1s/step - loss: 0.0283 - accuracy: 1.0000 - val_loss: 0.1218 - val_accuracy: 0.9500\n",
      "Epoch 41/50\n",
      "3/3 [==============================] - 3s 1s/step - loss: 0.0266 - accuracy: 1.0000 - val_loss: 0.1212 - val_accuracy: 0.9500\n",
      "Epoch 42/50\n",
      "3/3 [==============================] - 4s 2s/step - loss: 0.0287 - accuracy: 1.0000 - val_loss: 0.1205 - val_accuracy: 0.9500\n",
      "Epoch 43/50\n",
      "3/3 [==============================] - 4s 1s/step - loss: 0.0257 - accuracy: 1.0000 - val_loss: 0.1195 - val_accuracy: 0.9500\n",
      "Epoch 44/50\n",
      "3/3 [==============================] - 3s 1s/step - loss: 0.0248 - accuracy: 1.0000 - val_loss: 0.1184 - val_accuracy: 0.9500\n",
      "Epoch 45/50\n",
      "3/3 [==============================] - 3s 1s/step - loss: 0.0238 - accuracy: 1.0000 - val_loss: 0.1180 - val_accuracy: 0.9500\n",
      "Epoch 46/50\n",
      "3/3 [==============================] - 4s 1s/step - loss: 0.0232 - accuracy: 1.0000 - val_loss: 0.1181 - val_accuracy: 0.9500\n",
      "Epoch 47/50\n",
      "3/3 [==============================] - 3s 1s/step - loss: 0.0221 - accuracy: 1.0000 - val_loss: 0.1179 - val_accuracy: 0.9500\n",
      "Epoch 48/50\n",
      "3/3 [==============================] - 3s 1s/step - loss: 0.0257 - accuracy: 1.0000 - val_loss: 0.1169 - val_accuracy: 0.9500\n",
      "Epoch 49/50\n",
      "3/3 [==============================] - 3s 1s/step - loss: 0.0210 - accuracy: 1.0000 - val_loss: 0.1160 - val_accuracy: 0.9500\n",
      "Epoch 50/50\n",
      "3/3 [==============================] - 3s 1s/step - loss: 0.0223 - accuracy: 1.0000 - val_loss: 0.1149 - val_accuracy: 0.9500\n"
     ]
    }
   ],
   "source": [
    "# Fit model\n",
    "wandb.init(sync_tensorboard=True)\n",
    "history_1 = model_1.fit(train_data,\n",
    "                        epochs=50,\n",
    "                        validation_data=test_data,\n",
    "                        callbacks=[early_stopping,\n",
    "                                    create_tensorboard_callback(\"logs\",model_1.name)])"
   ]
  },
  {
   "cell_type": "code",
   "execution_count": 57,
   "metadata": {},
   "outputs": [
    {
     "name": "stdout",
     "output_type": "stream",
     "text": [
      "1/1 [==============================] - 1s 638ms/step - loss: 0.1149 - accuracy: 0.9500\n"
     ]
    },
    {
     "data": {
      "text/plain": [
       "[0.11491131782531738, 0.949999988079071]"
      ]
     },
     "execution_count": 57,
     "metadata": {},
     "output_type": "execute_result"
    }
   ],
   "source": [
    "model_1.evaluate(test_data)"
   ]
  }
 ],
 "metadata": {
  "kernelspec": {
   "display_name": "Python 3.10.6 64-bit",
   "language": "python",
   "name": "python3"
  },
  "language_info": {
   "codemirror_mode": {
    "name": "ipython",
    "version": 3
   },
   "file_extension": ".py",
   "mimetype": "text/x-python",
   "name": "python",
   "nbconvert_exporter": "python",
   "pygments_lexer": "ipython3",
   "version": "3.10.6"
  },
  "orig_nbformat": 4,
  "vscode": {
   "interpreter": {
    "hash": "aee8b7b246df8f9039afb4144a1f6fd8d2ca17a180786b69acc140d282b71a49"
   }
  }
 },
 "nbformat": 4,
 "nbformat_minor": 2
}
