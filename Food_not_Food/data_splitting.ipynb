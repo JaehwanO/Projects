{
 "cells": [
  {
   "cell_type": "code",
   "execution_count": null,
   "metadata": {},
   "outputs": [],
   "source": [
    "import os\n",
    "from shutil import copy2\n",
    "import random\n",
    "# for dirs, sub_dirs, files in os.walk(\"data/imagenet_images/\"):\n",
    "#     print(dirs)\n",
    "#     print(sub_dirs)\n",
    "#     print(files)\n"
   ]
  },
  {
   "cell_type": "code",
   "execution_count": null,
   "metadata": {},
   "outputs": [],
   "source": [
    "\n",
    "def create_train_test_list(target_dir):\n",
    "    random.seed(42)\n",
    "    image_list = [os.path.join(target_dir,img_path) for img_path in os.listdir(target_dir)]\n",
    "    train_split = int(0.8 * len(image_list))\n",
    "    train_image_list = random.sample(image_list,train_split)\n",
    "    test_image_list = list(set(image_list).difference(set(train_image_list)))\n",
    "    return train_image_list, test_image_list\n",
    "\n",
    "\n",
    "train_image_list, test_image_list = create_train_test_list(\"data/model_test_images/ball\")"
   ]
  },
  {
   "cell_type": "code",
   "execution_count": null,
   "metadata": {},
   "outputs": [],
   "source": [
    "\n",
    "def copy_images_to_file(img_path_list, target_dir,train=True):\n",
    "        if train:\n",
    "            # Make target directory\n",
    "            # split_dir = \"train\"\n",
    "            # print(img_path_list[0])\n",
    "            # dir_to_make = os.path.join(target_dir,split_dir)\n",
    "            # target_dir = os.path.join(target_dir , \"train\",)\n",
    "            # os.makedirs(os.path.join(target_dir,split_dir) , exist_ok = True)\n",
    "            split_dir = \"train\"\n",
    "        else:\n",
    "            split_dir = \"test\"\n",
    "            # os.makedirs(os.path.join(target_dir, split_dir) , exist_ok = True)\n",
    "\n",
    "        # Copy images\n",
    "        for image_path in img_path_list:\n",
    "            image_file_name = os.path.split(image_path)[-1]\n",
    "            dest_path = os.path.join(target_dir, split_dir, image_dir, image_file_name)\n",
    "            print(f\"Copying: \\n{image_path} to \\n{dest_path}\")\n",
    "            copy2(image_path, dest_path)"
   ]
  },
  {
   "cell_type": "code",
   "execution_count": null,
   "metadata": {},
   "outputs": [],
   "source": [
    "data_dir = \"data/model_test_images\"\n",
    "target_dir = \"data/model_test_images_split\"\n",
    "for image_dir in os.listdir(data_dir):\n",
    "    # print(image_dir)\n",
    "\n",
    "    for split_dir in [ \"train\", \"test\"]:\n",
    "        os.makedirs(os.path.join(target_dir, split_dir, image_dir) , exist_ok= True)\n",
    "\n",
    "    # Make training and test lists of target images\n",
    "    train_image_list , test_image_list = create_train_test_list(os.path.join(data_dir, image_dir))\n",
    "\n",
    "    # Copy training images\n",
    "    copy_images_to_file(img_path_list = train_image_list, \n",
    "                        target_dir = target_dir,\n",
    "                        train=True)\n",
    "\n",
    "    # Copt test images \n",
    "    copy_images_to_file(img_path_list = test_image_list, \n",
    "                        target_dir = target_dir,\n",
    "                        train=False)"
   ]
  },
  {
   "cell_type": "code",
   "execution_count": 12,
   "metadata": {},
   "outputs": [
    {
     "data": {
      "text/plain": [
       "(['data/food_images/.DS_Store',\n",
       "  'data/food_images/turnip/2381869814_c120d056a2.jpg',\n",
       "  'data/food_images/turnip/2095748390_6d42d8aac6.jpg',\n",
       "  'data/food_images/turnip/1847633513_b4f73101d6.jpg',\n",
       "  'data/food_images/turnip/458979217_cf41988992.jpg'],\n",
       " ['data/non_food_images/grosgrain/2514281815_7d1a9014d9.jpg',\n",
       "  'data/non_food_images/grosgrain/136907301_5b6027c9af.jpg',\n",
       "  'data/non_food_images/grosgrain/2515111070_1d3295b686.jpg',\n",
       "  'data/non_food_images/grosgrain/1959208615_ef3aa0e799.jpg',\n",
       "  'data/non_food_images/grosgrain/1737764788_ee5f5b838e.jpg'])"
      ]
     },
     "execution_count": 12,
     "metadata": {},
     "output_type": "execute_result"
    }
   ],
   "source": [
    "# Extract food_images files and move to train/food_images\n",
    "# Do the same with test & non_food_images\n",
    "food_image_filepaths =[]\n",
    "for dir, sub_dir, files in os.walk(\"data/food_images/\"):\n",
    "    for file in files:\n",
    "        food_image_filepaths.append(os.path.join(dir, file))\n",
    "\n",
    "non_food_image_filepaths =[]\n",
    "for dir, sub_dir, files in os.walk(\"data/non_food_images/\"):\n",
    "    for file in files:\n",
    "        non_food_image_filepaths.append(os.path.join(dir, file))\n",
    "\n",
    "\n",
    "food_image_filepaths[:5], non_food_image_filepaths[:5]"
   ]
  },
  {
   "cell_type": "code",
   "execution_count": 13,
   "metadata": {},
   "outputs": [
    {
     "data": {
      "text/plain": [
       "(867, 217)"
      ]
     },
     "execution_count": 13,
     "metadata": {},
     "output_type": "execute_result"
    }
   ],
   "source": [
    "import random\n",
    "def create_train_test_list(image_list):\n",
    "    random.seed(42)\n",
    "    # image_list = [os.path.join(target_dir,img_path) for img_path in os.listdir(target_dir)]\n",
    "    train_split = int(0.8 * len(image_list))\n",
    "    train_image_list = random.sample(image_list,train_split)\n",
    "    test_image_list = list(set(image_list).difference(set(train_image_list)))\n",
    "    return train_image_list, test_image_list\n",
    "\n",
    "\n",
    "train_image_list , test_image_list = create_train_test_list(food_image_filepaths)\n",
    "len(train_image_list), len(test_image_list)"
   ]
  },
  {
   "cell_type": "code",
   "execution_count": null,
   "metadata": {},
   "outputs": [],
   "source": [
    "# # Move to train and test\n",
    "# def copy_images_to_file(img_path_list, split_dir):\n",
    "#         # Copy images\n",
    "#         for image_path in img_path_list:\n",
    "#             image_file_name = os.path.split(image_path)[-1]\n",
    "#             dest_path = os.path.join(target_dir, split_dir, image_dir, image_file_name)\n",
    "#             print(f\"Copying: \\n{image_path} to \\n{dest_path}\")\n",
    "#             copy2(image_path, dest_path)"
   ]
  },
  {
   "cell_type": "code",
   "execution_count": 23,
   "metadata": {},
   "outputs": [],
   "source": [
    "from shutil import copy2\n",
    "\n",
    "def copy_images_to_file(image_list,target_dir):\n",
    "# target_dir = \"data/train/food_images/\"\n",
    "    os.makedirs(target_dir,exist_ok=True)\n",
    "    for image_path in image_list:\n",
    "        image_filename = os.path.split(image_path)[-1]\n",
    "        # print(image_filename)\n",
    "        dest_path = os.path.join(target_dir,image_filename)\n",
    "        print(f\"Copiny {image_path} to {dest_path}\")\n",
    "        copy2(image_path, dest_path )"
   ]
  },
  {
   "cell_type": "code",
   "execution_count": null,
   "metadata": {},
   "outputs": [],
   "source": [
    "train_images,test_images = create_train_test_list(food_image_filepaths)\n",
    "copy_images_to_file(image_list = train_images,target_dir = \"data/train/food_images/\")\n",
    "copy_images_to_file(image_list = test_images,target_dir = \"data/test/food_images/\")"
   ]
  },
  {
   "cell_type": "code",
   "execution_count": null,
   "metadata": {},
   "outputs": [],
   "source": [
    "train_images,test_images = create_train_test_list(non_food_image_filepaths)\n",
    "copy_images_to_file(image_list = train_images,target_dir = \"data/train/non_food_images/\")\n",
    "copy_images_to_file(image_list = test_images,target_dir = \"data/test/non_food_images/\")"
   ]
  },
  {
   "cell_type": "code",
   "execution_count": null,
   "metadata": {},
   "outputs": [],
   "source": []
  }
 ],
 "metadata": {
  "kernelspec": {
   "display_name": "Python 3.10.6 64-bit",
   "language": "python",
   "name": "python3"
  },
  "language_info": {
   "codemirror_mode": {
    "name": "ipython",
    "version": 3
   },
   "file_extension": ".py",
   "mimetype": "text/x-python",
   "name": "python",
   "nbconvert_exporter": "python",
   "pygments_lexer": "ipython3",
   "version": "3.10.6"
  },
  "orig_nbformat": 4,
  "vscode": {
   "interpreter": {
    "hash": "aee8b7b246df8f9039afb4144a1f6fd8d2ca17a180786b69acc140d282b71a49"
   }
  }
 },
 "nbformat": 4,
 "nbformat_minor": 2
}
